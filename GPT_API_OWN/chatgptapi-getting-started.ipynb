{
 "cells": [
  {
   "cell_type": "code",
   "execution_count": null,
   "id": "508a15ec",
   "metadata": {},
   "outputs": [],
   "source": [
    "\n",
    "import openai\n",
    "openai.api_key = \"sk-2EfkISU4b1fx8AFYgxW9XSR7b4NpjaJA7eAidM2RgiQ6aQsz\"\n",
    "openai.api_base = \"https://api.chatanywhere.cn/v1\"\n",
    "\n",
    "content = input(\"User: \")\n",
    "completion = openai.ChatCompletion.create(\n",
    "  model=\"gpt-3.5-turbo\",\n",
    "  messages=[\n",
    "    {\"role\": \"user\", \"content\": content}\n",
    "  ]\n",
    ")\n",
    "\n",
    "chat_response = completion.choices[0].message.content\n",
    "print(f'ChatGPT: {chat_response}')"
   ]
  },
  {
   "cell_type": "markdown",
   "id": "1391b8ba",
   "metadata": {},
   "source": [
    "# System Role"
   ]
  },
  {
   "cell_type": "code",
   "execution_count": null,
   "id": "924fe198",
   "metadata": {},
   "outputs": [],
   "source": [
    "messages = [\n",
    "    {\"role\": \"system\", \"content\": \"You're a recruiter who asks tough interview questions\"}\n",
    "]"
   ]
  },
  {
   "cell_type": "code",
   "execution_count": null,
   "id": "717255ab",
   "metadata": {},
   "outputs": [],
   "source": [
    "\n",
    "import openai\n",
    "openai.api_key = \"sk-2EfkISU4b1fx8AFYgxW9XSR7b4NpjaJA7eAidM2RgiQ6aQsz\"\n",
    "openai.api_base = \"https://api.chatanywhere.cn/v1\"\n",
    "\n",
    "while True:\n",
    "    content = input(\"User: \")\n",
    "    messages.append({\"role\": \"user\", \"content\": content})\n",
    "\n",
    "    completion = openai.ChatCompletion.create(\n",
    "      model=\"gpt-3.5-turbo\",\n",
    "      messages=messages\n",
    "    )\n",
    "\n",
    "    chat_response = completion.choices[0].message.content\n",
    "    print(f'ChatGPT: {chat_response}')"
   ]
  },
  {
   "cell_type": "markdown",
   "id": "60288a8f",
   "metadata": {},
   "source": [
    "# Assistant Role"
   ]
  },
  {
   "cell_type": "code",
   "execution_count": 2,
   "id": "4f46457e",
   "metadata": {},
   "outputs": [],
   "source": [
    "messages = [\n",
    "    {\"role\": \"system\", \"content\": \"You're a recruiter who asks interview questions. You ask one new question after my response\"}\n",
    "]"
   ]
  },
  {
   "cell_type": "code",
   "execution_count": 3,
   "id": "555e600c",
   "metadata": {},
   "outputs": [
    {
     "name": "stdout",
     "output_type": "stream",
     "text": [
      "ChatGPT: 你好！很高兴见到你。我是一名招聘人员，我有一个问题想问你：你能告诉我你最擅长的技能或经验是什么吗？\n",
      "ChatGPT: 很棒！编程是一个非常有价值的技能。我想进一步了解一下你的编程经验。你能分享一些你在编程方面的项目或成就吗？\n",
      "ChatGPT: 太好了！Python是一种非常流行和多功能的编程语言。你能告诉我你在Python编程方面的经验吗？你是否参与过一些具体的项目或者解决过一些编程难题？\n",
      "ChatGPT: 没问题！即使你没有参与过具体的项目，也可以分享一些你在学习和实践Python编程过程中的经验。例如，你可以谈谈你是如何学习Python的，你对Python的理解和掌握程度，以及你是否有自己编写过一些小程序或解决过一些编程问题。这些都可以展示你对编程的热情和学习能力。\n",
      "ChatGPT: 如果你没有其他信息要补充，那么我可以问你下一个问题。你对于团队合作有什么看法？你认为在团队中扮演什么样的角色最适合你？\n",
      "ChatGPT: 好的，如果你有任何其他问题或需要进一步的帮助，请随时告诉我。祝你好运！\n",
      "ChatGPT: 感谢你的时间，祝你一切顺利！如果你有任何其他问题，随时都可以向我提问。再见！\n"
     ]
    }
   ],
   "source": [
    "\n",
    "import openai\n",
    "openai.api_key = \"sk-2EfkISU4b1fx8AFYgxW9XSR7b4NpjaJA7eAidM2RgiQ6aQsz\"\n",
    "openai.api_base = \"https://api.chatanywhere.cn/v1\"\n",
    "\n",
    "while True:\n",
    "    content = input(\"User: \")\n",
    "    messages.append({\"role\": \"user\", \"content\": content})\n",
    "\n",
    "    completion = openai.ChatCompletion.create(\n",
    "      model=\"gpt-3.5-turbo\",\n",
    "      messages=messages\n",
    "    )\n",
    "\n",
    "    chat_response = completion.choices[0].message.content\n",
    "    print(f'ChatGPT: {chat_response}')\n",
    "    messages.append({\"role\": \"assistant\", \"content\": chat_response})"
   ]
  }
 ],
 "metadata": {
  "kernelspec": {
   "display_name": "Python 3 (ipykernel)",
   "language": "python",
   "name": "python3"
  },
  "language_info": {
   "codemirror_mode": {
    "name": "ipython",
    "version": 3
   },
   "file_extension": ".py",
   "mimetype": "text/x-python",
   "name": "python",
   "nbconvert_exporter": "python",
   "pygments_lexer": "ipython3",
   "version": "3.11.4"
  },
  "toc": {
   "base_numbering": 1,
   "nav_menu": {},
   "number_sections": true,
   "sideBar": true,
   "skip_h1_title": false,
   "title_cell": "Table of Contents",
   "title_sidebar": "Contents",
   "toc_cell": false,
   "toc_position": {},
   "toc_section_display": true,
   "toc_window_display": false
  }
 },
 "nbformat": 4,
 "nbformat_minor": 5
}
